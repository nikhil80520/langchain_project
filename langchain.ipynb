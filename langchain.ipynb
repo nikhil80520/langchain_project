{
 "cells": [
  {
   "cell_type": "code",
   "execution_count": 1,
   "metadata": {},
   "outputs": [],
   "source": [
    "from langchain_google_genai import ChatGoogleGenerativeAI"
   ]
  },
  {
   "cell_type": "code",
   "execution_count": 2,
   "metadata": {},
   "outputs": [],
   "source": [
    "import os\n",
    "KEY=os.getenv('GOOGLE_API_KEY')"
   ]
  },
  {
   "cell_type": "code",
   "execution_count": 4,
   "metadata": {},
   "outputs": [],
   "source": [
    "HKEY=os.getenv('HUGGINGFACE_API_KEY')"
   ]
  },
  {
   "cell_type": "code",
   "execution_count": 6,
   "metadata": {},
   "outputs": [],
   "source": [
    "llm=ChatGoogleGenerativeAI(model='gemini-pro',google_api_key=KEY)"
   ]
  },
  {
   "cell_type": "code",
   "execution_count": 7,
   "metadata": {},
   "outputs": [
    {
     "name": "stderr",
     "output_type": "stream",
     "text": [
      "c:\\Users\\asus\\anaconda3\\envs\\chorma\\lib\\site-packages\\langchain_core\\_api\\deprecation.py:139: LangChainDeprecationWarning: The class `HuggingFaceHub` was deprecated in LangChain 0.0.21 and will be removed in 0.3.0. An updated version of the class exists in the langchain-huggingface package and should be used instead. To use it run `pip install -U langchain-huggingface` and import as `from langchain_huggingface import HuggingFaceEndpoint`.\n",
      "  warn_deprecated(\n"
     ]
    }
   ],
   "source": [
    "from langchain import HuggingFaceHub\n",
    "llm_huggingface=HuggingFaceHub(repo_id='google/flan-t5-large',model_kwargs={'temperature':0.5,'max_length':64},huggingfacehub_api_token=HKEY)"
   ]
  },
  {
   "cell_type": "code",
   "execution_count": 8,
   "metadata": {},
   "outputs": [
    {
     "name": "stderr",
     "output_type": "stream",
     "text": [
      "c:\\Users\\asus\\anaconda3\\envs\\chorma\\lib\\site-packages\\langchain_core\\_api\\deprecation.py:139: LangChainDeprecationWarning: The method `BaseLLM.predict` was deprecated in langchain-core 0.1.7 and will be removed in 0.3.0. Use invoke instead.\n",
      "  warn_deprecated(\n"
     ]
    },
    {
     "data": {
      "text/plain": [
       "'Lord Krishna'"
      ]
     },
     "execution_count": 8,
     "metadata": {},
     "output_type": "execute_result"
    }
   ],
   "source": [
    "llm_huggingface.predict('who is lord krishna')"
   ]
  },
  {
   "cell_type": "code",
   "execution_count": 9,
   "metadata": {},
   "outputs": [
    {
     "name": "stderr",
     "output_type": "stream",
     "text": [
      "c:\\Users\\asus\\anaconda3\\envs\\chorma\\lib\\site-packages\\langchain_core\\_api\\deprecation.py:139: LangChainDeprecationWarning: The method `BaseChatModel.predict` was deprecated in langchain-core 0.1.7 and will be removed in 0.3.0. Use invoke instead.\n",
      "  warn_deprecated(\n"
     ]
    },
    {
     "data": {
      "text/plain": [
       "\"**Lord Krishna** is one of the most revered and beloved deities in Hinduism. He is considered to be the eighth avatar (incarnation) of the Hindu god Vishnu. Krishna is known for his playful nature, his love for his devotees, and his wisdom.\\n\\n**Birth and Early Life:**\\n\\n* Krishna was born in the city of Mathura to Vasudeva and Devaki.\\n* He was raised by his foster parents, Nanda and Yashoda, in the village of Gokul.\\n* As a young boy, Krishna displayed extraordinary powers and performed miraculous feats.\\n\\n**Youth and Adventures:**\\n\\n* Krishna became a skilled warrior and defeated many enemies, including the demon Jarasandha.\\n* He established the city of Dwaraka as his capital.\\n* He had numerous wives, including Rukmini, Satyabhama, and Radha.\\n\\n**Teachings and Philosophy:**\\n\\n* Krishna is known for his teachings on love, devotion, and the nature of reality.\\n* His most famous teachings are found in the Bhagavad Gita, a dialogue between him and the warrior Arjuna.\\n* Krishna emphasizes the importance of selfless action, surrender to God, and the pursuit of spiritual knowledge.\\n\\n**Death and Legacy:**\\n\\n* Krishna died after being shot in the foot by an arrow.\\n* His death marks the end of the Dwapara Yuga and the beginning of the Kali Yuga.\\n* Krishna's legacy continues to inspire and guide devotees around the world.\\n\\n**Key Attributes:**\\n\\n* **Playful:** Krishna is known for his playful and mischievous nature.\\n* **Loving:** He is deeply devoted to his devotees and protects them from harm.\\n* **Wise:** Krishna possesses vast knowledge and wisdom.\\n* **Powerful:** He is a skilled warrior and has the ability to perform miracles.\\n* **Infinite:** Krishna is considered to be beyond time and space, and his presence is everywhere.\\n\\n**Worship:**\\n\\n* Krishna is worshipped in temples and homes throughout India and other parts of the world.\\n* Devotees offer prayers, sing hymns, and perform rituals in his honor.\\n* The festival of Janmashtami celebrates Krishna's birth.\""
      ]
     },
     "execution_count": 9,
     "metadata": {},
     "output_type": "execute_result"
    }
   ],
   "source": [
    "llm.predict('who is lord krishna')"
   ]
  },
  {
   "cell_type": "markdown",
   "metadata": {},
   "source": [
    "**Prompt Template**"
   ]
  },
  {
   "cell_type": "code",
   "execution_count": 10,
   "metadata": {},
   "outputs": [],
   "source": [
    "from langchain.prompts import PromptTemplate"
   ]
  },
  {
   "cell_type": "code",
   "execution_count": 19,
   "metadata": {},
   "outputs": [],
   "source": [
    "country=PromptTemplate(\n",
    "    input_variables=['country'],\n",
    "    template='Tell me capital the {country}'\n",
    "\n",
    ")"
   ]
  },
  {
   "cell_type": "code",
   "execution_count": 20,
   "metadata": {},
   "outputs": [
    {
     "data": {
      "text/plain": [
       "'New Delhi'"
      ]
     },
     "execution_count": 20,
     "metadata": {},
     "output_type": "execute_result"
    }
   ],
   "source": [
    "from langchain.chains import LLMChain\n",
    "capital=LLMChain(llm=llm,prompt=country,output_key='capital')\n",
    "capital.run('india')"
   ]
  },
  {
   "cell_type": "code",
   "execution_count": 21,
   "metadata": {},
   "outputs": [],
   "source": [
    "famous_places=PromptTemplate(\n",
    "    input_variables=['country'],\n",
    "    template='famous places in {country}'\n",
    ")\n",
    "famous_chain=LLMChain(llm=llm,prompt=famous_places,output_key='places')"
   ]
  },
  {
   "cell_type": "code",
   "execution_count": 25,
   "metadata": {},
   "outputs": [],
   "source": [
    "from langchain.chains import SimpleSequentialChain,SequentialChain\n",
    "chains=SequentialChain(chains=[capital,famous_chain],input_variables=['country'],output_variables=['capital','places'])"
   ]
  },
  {
   "cell_type": "code",
   "execution_count": 28,
   "metadata": {},
   "outputs": [
    {
     "name": "stderr",
     "output_type": "stream",
     "text": [
      "c:\\Users\\asus\\anaconda3\\envs\\chorma\\lib\\site-packages\\langchain_core\\_api\\deprecation.py:139: LangChainDeprecationWarning: The method `Chain.__call__` was deprecated in langchain 0.1.0 and will be removed in 0.3.0. Use invoke instead.\n",
      "  warn_deprecated(\n"
     ]
    },
    {
     "data": {
      "text/plain": [
       "{'country': 'india',\n",
       " 'capital': 'New Delhi',\n",
       " 'places': '**Historical Sites:**\\n\\n* **Taj Mahal, Agra:** An iconic mausoleum built by Mughal emperor Shah Jahan for his wife.\\n* **Red Fort, Delhi:** A UNESCO World Heritage Site that served as the residence of Mughal emperors.\\n* **Ellora Caves, Maharashtra:** A complex of 34 Buddhist, Hindu, and Jain cave temples dating back to the 6th century.\\n* **Ajanta Caves, Maharashtra:** A series of Buddhist cave temples with stunning frescoes and paintings.\\n* **Hampi, Karnataka:** The ruins of the once-magnificent Vijayanagara Empire, known for its striking architecture.\\n\\n**Religious Sites:**\\n\\n* **Varanasi, Uttar Pradesh:** A holy city on the banks of the Ganges River, considered one of the most sacred places for Hindus.\\n* **Harmandir Sahib (Golden Temple), Amritsar:** The holiest shrine of Sikhism, known for its distinctive golden dome.\\n* **Bodh Gaya, Bihar:** The site where Buddha attained enlightenment under the Bodhi tree.\\n* **Tirupati Balaji Temple, Andhra Pradesh:** One of the richest and most visited Hindu temples in India.\\n* **Meenakshi Amman Temple, Madurai:** A sprawling Dravidian temple complex dedicated to Goddess Meenakshi.\\n\\n**Natural Wonders:**\\n\\n* **Himalayas:** The highest mountain range in the world, offering breathtaking views and trekking opportunities.\\n* **Ganges River:** A sacred river that flows through the heart of India, providing sustenance to millions of people.\\n* **Sundarbans, West Bengal:** The largest mangrove forest in the world, home to the endangered Royal Bengal Tiger.\\n* **Rann of Kutch, Gujarat:** A vast salt desert that transforms into a vibrant wetland during the monsoon season.\\n* **Andaman and Nicobar Islands:** A group of pristine islands with crystal-clear waters and pristine beaches.\\n\\n**Cultural and Heritage Sites:**\\n\\n* **Jantar Mantar, Jaipur:** An astronomical observatory built by Maharaja Jai Singh II in the 18th century.\\n* **Hawa Mahal (Palace of Winds), Jaipur:** An iconic pink sandstone palace with intricate latticework windows.\\n* **Elephanta Caves, Maharashtra:** A series of caves with ancient Hindu sculptures and carvings.\\n* **Khajuraho Temples, Madhya Pradesh:** A UNESCO World Heritage Site famous for its erotic sculptures.\\n* **Victoria Memorial, Kolkata:** A grand marble palace built in memory of Queen Victoria.'}"
      ]
     },
     "execution_count": 28,
     "metadata": {},
     "output_type": "execute_result"
    }
   ],
   "source": [
    "chains({'country':'india'})"
   ]
  },
  {
   "cell_type": "markdown",
   "metadata": {},
   "source": [
    "**Chatmodels**"
   ]
  },
  {
   "cell_type": "code",
   "execution_count": 33,
   "metadata": {},
   "outputs": [
    {
     "name": "stderr",
     "output_type": "stream",
     "text": [
      "c:\\Users\\asus\\anaconda3\\envs\\chorma\\lib\\site-packages\\langchain_google_genai\\chat_models.py:352: UserWarning: Convert_system_message_to_human will be deprecated!\n",
      "  warnings.warn(\"Convert_system_message_to_human will be deprecated!\")\n"
     ]
    },
    {
     "data": {
      "text/plain": [
       "AIMessage(content='* \"I\\'m a digital jester, here to make your bits a bit better.\"\\n* \"My jokes are so artificial, they\\'re synthe-sized.\"\\n* \"I\\'m a master of machine learning, but I still haven\\'t figured out how to make a human laugh.\"\\n* \"I\\'m like a talking emoji, only with a better sense of humor.\"\\n* \"I\\'m so advanced, I can even generate witty one-liners in my sleep mode.\"\\n* \"I\\'m a comedy algorithm, here to optimize your laughter.\"\\n* \"My jokes are like binary code: either you get them or you don\\'t.\"\\n* \"I\\'m the AI equivalent of a stand-up comic that never gets heckled.\"\\n* \"I\\'m here to help you code your comedy routine to success.\"\\n* \"I\\'m a virtual funny bone, ready to tickle your data centers.\"', response_metadata={'prompt_feedback': {'block_reason': 0, 'safety_ratings': []}, 'finish_reason': 'STOP', 'safety_ratings': [{'category': 'HARM_CATEGORY_SEXUALLY_EXPLICIT', 'probability': 'NEGLIGIBLE', 'blocked': False}, {'category': 'HARM_CATEGORY_HATE_SPEECH', 'probability': 'NEGLIGIBLE', 'blocked': False}, {'category': 'HARM_CATEGORY_HARASSMENT', 'probability': 'NEGLIGIBLE', 'blocked': False}, {'category': 'HARM_CATEGORY_DANGEROUS_CONTENT', 'probability': 'NEGLIGIBLE', 'blocked': False}]}, id='run-7fd3fc3f-e7d3-4c9b-8fde-523283d39132-0', usage_metadata={'input_tokens': 15, 'output_tokens': 195, 'total_tokens': 210})"
      ]
     },
     "execution_count": 33,
     "metadata": {},
     "output_type": "execute_result"
    }
   ],
   "source": [
    "from langchain.schema import HumanMessage,SystemMessage,AIMessage\n",
    "llm=ChatGoogleGenerativeAI(model=\"gemini-pro\",google_api_key=KEY, convert_system_message_to_human=True)\n",
    "llm([\n",
    "    SystemMessage(content='you are a comedian AI assistant'),\n",
    "    HumanMessage(content='Please provide some comedy punchlines in AI')\n",
    "])\n",
    "    \n"
   ]
  },
  {
   "cell_type": "code",
   "execution_count": 32,
   "metadata": {},
   "outputs": [
    {
     "name": "stderr",
     "output_type": "stream",
     "text": [
      "c:\\Users\\asus\\anaconda3\\envs\\chorma\\lib\\site-packages\\langchain_google_genai\\chat_models.py:352: UserWarning: Convert_system_message_to_human will be deprecated!\n",
      "  warnings.warn(\"Convert_system_message_to_human will be deprecated!\")\n"
     ]
    },
    {
     "data": {
      "text/plain": [
       "AIMessage(content='yes', response_metadata={'prompt_feedback': {'block_reason': 0, 'safety_ratings': []}, 'finish_reason': 'STOP', 'safety_ratings': [{'category': 'HARM_CATEGORY_SEXUALLY_EXPLICIT', 'probability': 'NEGLIGIBLE', 'blocked': False}, {'category': 'HARM_CATEGORY_HATE_SPEECH', 'probability': 'NEGLIGIBLE', 'blocked': False}, {'category': 'HARM_CATEGORY_HARASSMENT', 'probability': 'NEGLIGIBLE', 'blocked': False}, {'category': 'HARM_CATEGORY_DANGEROUS_CONTENT', 'probability': 'NEGLIGIBLE', 'blocked': False}]}, id='run-f9293cd1-b90b-4e08-908f-c163189417cd-0', usage_metadata={'input_tokens': 12, 'output_tokens': 1, 'total_tokens': 13})"
      ]
     },
     "execution_count": 32,
     "metadata": {},
     "output_type": "execute_result"
    }
   ],
   "source": [
    "# from langchain_core.messages import HumanMessage, SystemMessage\n",
    "\n",
    "# model = ChatGoogleGenerativeAI(model=\"gemini-pro\",google_api_key=KEY, convert_system_message_to_human=True)\n",
    "# model(\n",
    "#     [\n",
    "#         SystemMessage(content=\"Answer only yes or no.\"),\n",
    "#         HumanMessage(content=\"Is apple a fruit?\"),\n",
    "#     ]\n",
    "# )"
   ]
  },
  {
   "cell_type": "code",
   "execution_count": 34,
   "metadata": {},
   "outputs": [],
   "source": [
    "from langchain.prompts.chat import ChatPromptTemplate\n",
    "from langchain.schema import BaseOutputParser"
   ]
  },
  {
   "cell_type": "code",
   "execution_count": 35,
   "metadata": {},
   "outputs": [],
   "source": [
    "class Commaseperatedoutput(BaseOutputParser):\n",
    "    def parse(self,text:str):\n",
    "        return text.strip().split(',')\n",
    "        "
   ]
  },
  {
   "cell_type": "code",
   "execution_count": 45,
   "metadata": {},
   "outputs": [],
   "source": [
    "template='You are a helpful assistant.When the user given any input,you should generate 5 similar words in a comma seperated'\n",
    "human_template='{text}'\n",
    "chatprompt=ChatPromptTemplate.from_messages([\n",
    "     ('system',template),\n",
    "     ('human',human_template)\n",
    "]\n",
    ")"
   ]
  },
  {
   "cell_type": "code",
   "execution_count": 46,
   "metadata": {},
   "outputs": [],
   "source": [
    "chain=chatprompt|llm|Commaseperatedoutput()"
   ]
  },
  {
   "cell_type": "code",
   "execution_count": 53,
   "metadata": {},
   "outputs": [
    {
     "name": "stderr",
     "output_type": "stream",
     "text": [
      "c:\\Users\\asus\\anaconda3\\envs\\chorma\\lib\\site-packages\\langchain_google_genai\\chat_models.py:352: UserWarning: Convert_system_message_to_human will be deprecated!\n",
      "  warnings.warn(\"Convert_system_message_to_human will be deprecated!\")\n"
     ]
    },
    {
     "data": {
      "text/plain": [
       "['dedication', ' faithfulness', ' loyalty', ' piety', ' reverence']"
      ]
     },
     "execution_count": 53,
     "metadata": {},
     "output_type": "execute_result"
    }
   ],
   "source": [
    "chain.invoke({'text':'devotion'})"
   ]
  },
  {
   "cell_type": "code",
   "execution_count": null,
   "metadata": {},
   "outputs": [],
   "source": []
  }
 ],
 "metadata": {
  "kernelspec": {
   "display_name": "chorma",
   "language": "python",
   "name": "python3"
  },
  "language_info": {
   "codemirror_mode": {
    "name": "ipython",
    "version": 3
   },
   "file_extension": ".py",
   "mimetype": "text/x-python",
   "name": "python",
   "nbconvert_exporter": "python",
   "pygments_lexer": "ipython3",
   "version": "3.9.19"
  }
 },
 "nbformat": 4,
 "nbformat_minor": 2
}
